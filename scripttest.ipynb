{
 "cells": [
  {
   "cell_type": "code",
   "execution_count": 1,
   "metadata": {},
   "outputs": [],
   "source": [
    "import pandas as pd\n",
    "import pandasql as ps\n",
    "from calc0 import *\n",
    "from calc1 import *\n",
    "import glob\n",
    "from calc2 import *\n",
    "path=\"C://Users//abhis//OneDrive//Desktop//excel//Timesheet//\"\n",
    "file_list = glob.glob(path + \"//*.xlsx\")"
   ]
  },
  {
   "cell_type": "code",
   "execution_count": 2,
   "metadata": {},
   "outputs": [],
   "source": [
    "res=[]\n",
    "for file in file_list:\n",
    "    original = pd.read_excel(file)\n",
    "    OTdf=original[~original['OT-In(IST)'].isna()]\n",
    "    df_new = ps.sqldf('SELECT * FROM OTdf')\n",
    "    df_calculate_weekend_OT = ps.sqldf('SELECT * FROM df_new WHERE Status=\"Weekend\"')\n",
    "    df_new['OT hours'] = df_new.apply(lambda x: calculateOT(str(x['OT-In(IST)'])[:8], str(x['OT-Out (IST)'])[:8]), axis=1)\n",
    "    sum_of_weekend_OT = df_calculate_weekend_OT.apply(lambda x: calculateOT(str(x['OT-In(IST)'])[:8], str(x['OT-Out (IST)'])[:8]), axis=1).sum()\n",
    "    sum_of_night_OT = OTdf.apply(lambda x: calculateNTOT(str(x['OT-In(IST)'])[:8], str(x['OT-Out (IST)'])[:8]), axis=1).sum()\n",
    "    Sum_of_all_OT=df_new['OT hours'].sum()\n",
    "    # ####  no need for this line:  Sum_of_weekend_OT=df_calculate_weekend_OT['Weekend OT hours'].sum() DO NOT UNCOMMENT THIS\n",
    "    df=original.iloc[0:1,0:7]\n",
    "    del df['Date']\n",
    "    count_of_weekend_days=len(original[(original['Status']=='Weekend')])\n",
    "    count_of_working_days=len(original[(original['Status']=='Present')])\n",
    "    df['Working Days']=count_of_working_days\n",
    "    df['Weekend Days']=count_of_weekend_days\n",
    "    df['Total OT hours']=Sum_of_all_OT\n",
    "    df['Weekend OT hours']=sum_of_weekend_OT\n",
    "    df['Night OT hours']=sum_of_night_OT\n",
    "    res.append(df)"
   ]
  },
  {
   "cell_type": "code",
   "execution_count": 3,
   "metadata": {},
   "outputs": [
    {
     "name": "stderr",
     "output_type": "stream",
     "text": [
      "C:\\Users\\abhis\\AppData\\Local\\Temp\\ipykernel_668\\3659478344.py:3: FutureWarning: The frame.append method is deprecated and will be removed from pandas in a future version. Use pandas.concat instead.\n",
      "  excl_merged = excl_merged.append(\n"
     ]
    }
   ],
   "source": [
    "excl_merged = pd.DataFrame()\n",
    "for excl_file in res:\n",
    "    excl_merged = excl_merged.append(\n",
    "      excl_file, ignore_index=True)\n",
    "del excl_merged['Status']"
   ]
  },
  {
   "cell_type": "code",
   "execution_count": 4,
   "metadata": {},
   "outputs": [
    {
     "data": {
      "text/html": [
       "<div>\n",
       "<style scoped>\n",
       "    .dataframe tbody tr th:only-of-type {\n",
       "        vertical-align: middle;\n",
       "    }\n",
       "\n",
       "    .dataframe tbody tr th {\n",
       "        vertical-align: top;\n",
       "    }\n",
       "\n",
       "    .dataframe thead th {\n",
       "        text-align: right;\n",
       "    }\n",
       "</style>\n",
       "<table border=\"1\" class=\"dataframe\">\n",
       "  <thead>\n",
       "    <tr style=\"text-align: right;\">\n",
       "      <th></th>\n",
       "      <th>Employee ID</th>\n",
       "      <th>Employee Name</th>\n",
       "      <th>Domain</th>\n",
       "      <th>Client</th>\n",
       "      <th>RM/ZM</th>\n",
       "      <th>Working Days</th>\n",
       "      <th>Weekend Days</th>\n",
       "      <th>Total OT hours</th>\n",
       "      <th>Weekend OT hours</th>\n",
       "      <th>Night OT hours</th>\n",
       "    </tr>\n",
       "  </thead>\n",
       "  <tbody>\n",
       "    <tr>\n",
       "      <th>0</th>\n",
       "      <td>V067</td>\n",
       "      <td>Sandeep Singh</td>\n",
       "      <td>IPO</td>\n",
       "      <td>Rakuten</td>\n",
       "      <td>Deepanshu Tewathia</td>\n",
       "      <td>23</td>\n",
       "      <td>7</td>\n",
       "      <td>27.0</td>\n",
       "      <td>NaN</td>\n",
       "      <td>0</td>\n",
       "    </tr>\n",
       "    <tr>\n",
       "      <th>1</th>\n",
       "      <td>V068</td>\n",
       "      <td>Sumit Kaushik</td>\n",
       "      <td>IPO</td>\n",
       "      <td>Rakuten</td>\n",
       "      <td>Deepanshu Tewathia</td>\n",
       "      <td>22</td>\n",
       "      <td>8</td>\n",
       "      <td>50.5</td>\n",
       "      <td>20.0</td>\n",
       "      <td>0</td>\n",
       "    </tr>\n",
       "  </tbody>\n",
       "</table>\n",
       "</div>"
      ],
      "text/plain": [
       "  Employee ID  Employee Name Domain   Client               RM/ZM  \\\n",
       "0        V067  Sandeep Singh    IPO  Rakuten  Deepanshu Tewathia   \n",
       "1        V068  Sumit Kaushik    IPO  Rakuten  Deepanshu Tewathia   \n",
       "\n",
       "   Working Days  Weekend Days  Total OT hours  Weekend OT hours  \\\n",
       "0            23             7            27.0               NaN   \n",
       "1            22             8            50.5              20.0   \n",
       "\n",
       "   Night OT hours  \n",
       "0               0  \n",
       "1               0  "
      ]
     },
     "execution_count": 4,
     "metadata": {},
     "output_type": "execute_result"
    }
   ],
   "source": [
    "excl_merged\n",
    "\n",
    "# result_path=\"C://Users//abhis//OneDrive//Desktop//excel//Timesheet//result.xlsx\"\n",
    "\n",
    "# excl_file.to_excel(result_path)"
   ]
  },
  {
   "cell_type": "code",
   "execution_count": 5,
   "metadata": {},
   "outputs": [],
   "source": [
    "# result_path=\"C://Users//abhis//OneDrive//Desktop//excel//Timesheet//result.xlsx\"\n",
    "# excl_merged.to_excel(result_path)"
   ]
  }
 ],
 "metadata": {
  "kernelspec": {
   "display_name": "Python 3.10.7 64-bit",
   "language": "python",
   "name": "python3"
  },
  "language_info": {
   "codemirror_mode": {
    "name": "ipython",
    "version": 3
   },
   "file_extension": ".py",
   "mimetype": "text/x-python",
   "name": "python",
   "nbconvert_exporter": "python",
   "pygments_lexer": "ipython3",
   "version": "3.10.7"
  },
  "orig_nbformat": 4,
  "vscode": {
   "interpreter": {
    "hash": "3ffbf0abc1ab77b078092e586942f471caceca6a6a6c676a4d26e0d52144ddd1"
   }
  }
 },
 "nbformat": 4,
 "nbformat_minor": 2
}
